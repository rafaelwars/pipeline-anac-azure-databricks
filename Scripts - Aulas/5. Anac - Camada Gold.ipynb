{
 "cells": [
  {
   "cell_type": "code",
   "execution_count": 0,
   "metadata": {
    "application/vnd.databricks.v1+cell": {
     "cellMetadata": {},
     "inputWidgets": {},
     "nuid": "a9943e5f-aa0a-408b-96c8-5221d8dfa1d8",
     "showTitle": false,
     "tableResultSettingsMap": {},
     "title": ""
    }
   },
   "outputs": [],
   "source": []
  },
  {
   "cell_type": "code",
   "execution_count": 0,
   "metadata": {
    "application/vnd.databricks.v1+cell": {
     "cellMetadata": {
      "byteLimit": 2048000,
      "rowLimit": 10000
     },
     "inputWidgets": {},
     "nuid": "44269026-b3f0-4e5c-a05c-35497482dbd7",
     "showTitle": false,
     "tableResultSettingsMap": {},
     "title": ""
    }
   },
   "outputs": [],
   "source": [
    "%fs ls /mnt/anac/"
   ]
  },
  {
   "cell_type": "code",
   "execution_count": 0,
   "metadata": {
    "application/vnd.databricks.v1+cell": {
     "cellMetadata": {
      "byteLimit": 2048000,
      "rowLimit": 10000
     },
     "inputWidgets": {},
     "nuid": "a217e3f0-c66b-4da8-a331-fa0b9a779f50",
     "showTitle": false,
     "tableResultSettingsMap": {},
     "title": ""
    }
   },
   "outputs": [],
   "source": [
    "%fs ls dbfs:/mnt/anac/Silver/"
   ]
  },
  {
   "cell_type": "code",
   "execution_count": 0,
   "metadata": {
    "application/vnd.databricks.v1+cell": {
     "cellMetadata": {
      "byteLimit": 2048000,
      "rowLimit": 10000
     },
     "inputWidgets": {},
     "nuid": "ac3ae435-27c0-4977-820d-1f5774a3463f",
     "showTitle": false,
     "tableResultSettingsMap": {},
     "title": ""
    }
   },
   "outputs": [],
   "source": [
    "df = spark.read.parquet(\"dbfs:/mnt/anac/Silver/anac_silver.parquet/\")\n",
    "display(df)"
   ]
  },
  {
   "cell_type": "code",
   "execution_count": 0,
   "metadata": {
    "application/vnd.databricks.v1+cell": {
     "cellMetadata": {
      "byteLimit": 2048000,
      "rowLimit": 10000
     },
     "inputWidgets": {},
     "nuid": "31fa6650-898d-47c2-989a-143f6542ef41",
     "showTitle": false,
     "tableResultSettingsMap": {},
     "title": ""
    }
   },
   "outputs": [],
   "source": [
    "print(df.columns)"
   ]
  },
  {
   "cell_type": "code",
   "execution_count": 0,
   "metadata": {
    "application/vnd.databricks.v1+cell": {
     "cellMetadata": {
      "byteLimit": 2048000,
      "rowLimit": 10000
     },
     "inputWidgets": {},
     "nuid": "d5fc3a15-d448-4572-a3a9-d7fc0500da2f",
     "showTitle": false,
     "tableResultSettingsMap": {},
     "title": ""
    }
   },
   "outputs": [],
   "source": [
    "#1°:Selecionar somentes colunas que o cliente/setor pediu\n",
    "colunas = ['Aerodromo_de_Destino', 'Aerodromo_de_Origem','Classificacao_da_Ocorrência', 'Danos_a_Aeronave', 'Data_da_Ocorrencia','Municipio','UF','Regiao','Tipo_de_Aerodromo', 'Tipo_de_Ocorrencia','Lesoes_Desconhecidas_Passageiros', 'Lesoes_Desconhecidas_Terceiros', 'Lesoes_Desconhecidas_Tripulantes', 'Lesoes_Fatais_Passageiros', 'Lesoes_Fatais_Terceiros', 'Lesoes_Fatais_Tripulantes', 'Lesoes_Graves_Passageiros', 'Lesoes_Graves_Terceiros', 'Lesoes_Graves_Tripulantes', 'Lesoes_Leves_Passageiros', 'Lesoes_Leves_Terceiros', 'Lesoes_Leves_Tripulantes']\n",
    "\n",
    "df = df.select(colunas)\n",
    "display(df)"
   ]
  },
  {
   "cell_type": "code",
   "execution_count": 0,
   "metadata": {
    "application/vnd.databricks.v1+cell": {
     "cellMetadata": {
      "byteLimit": 2048000,
      "rowLimit": 10000
     },
     "inputWidgets": {},
     "nuid": "e1def2a8-0e27-4392-a845-f0fec16f73b2",
     "showTitle": false,
     "tableResultSettingsMap": {},
     "title": ""
    }
   },
   "outputs": [],
   "source": [
    "#2°:Criar uma nova coluna que faz a soma de todas as lesoes \n",
    "colunas_a_somar = [\n",
    "    \"Lesoes_Desconhecidas_Passageiros\",\n",
    "    \"Lesoes_Desconhecidas_Terceiros\",\n",
    "    \"Lesoes_Desconhecidas_Tripulantes\",\n",
    "    \"Lesoes_Fatais_Passageiros\",\n",
    "    \"Lesoes_Fatais_Terceiros\",\n",
    "    \"Lesoes_Fatais_Tripulantes\",\n",
    "    \"Lesoes_Graves_Passageiros\",\n",
    "    \"Lesoes_Graves_Terceiros\",\n",
    "    \"Lesoes_Graves_Tripulantes\",\n",
    "    \"Lesoes_Leves_Passageiros\",\n",
    "    \"Lesoes_Leves_Terceiros\",\n",
    "    \"Lesoes_Leves_Tripulantes\"\n",
    "]\n",
    "df = df.withColumn(\"Total_Lesoes\", sum(df[somartudo] for somartudo in colunas_a_somar))\n",
    "display(df)"
   ]
  },
  {
   "cell_type": "code",
   "execution_count": 0,
   "metadata": {
    "application/vnd.databricks.v1+cell": {
     "cellMetadata": {
      "byteLimit": 2048000,
      "rowLimit": 10000
     },
     "inputWidgets": {},
     "nuid": "42310d09-8e4d-48bf-a298-f15d04ce12da",
     "showTitle": false,
     "tableResultSettingsMap": {},
     "title": ""
    }
   },
   "outputs": [],
   "source": [
    "print(df.columns)"
   ]
  },
  {
   "cell_type": "code",
   "execution_count": 0,
   "metadata": {
    "application/vnd.databricks.v1+cell": {
     "cellMetadata": {
      "byteLimit": 2048000,
      "rowLimit": 10000
     },
     "inputWidgets": {},
     "nuid": "44e8dc63-58d0-4edd-93ed-ba58eeeaaae3",
     "showTitle": false,
     "tableResultSettingsMap": {},
     "title": ""
    }
   },
   "outputs": [],
   "source": [
    "# 3°:renomear colunas para ficar mais intuitivas para o usuario final \n",
    "df = df\\\n",
    "    .withColumnRenamed('Aerodromo_de_Destino', 'Destino')\\\n",
    "    .withColumnRenamed('Aerodromo_de_Origem', 'Origem')\\\n",
    "    .withColumnRenamed('Classificacao_da_Ocorrência', 'Classificacao')\\\n",
    "    .withColumnRenamed('Danos_a_Aeronave', 'Danos')\\\n",
    "    .withColumnRenamed('Data_da_Ocorrencia', 'Data')\\\n",
    "    .withColumnRenamed('UF', 'Estado')\\\n",
    "    .withColumnRenamed('Aerodromo_de_Destino', 'Destino')\\\n",
    "    .withColumnRenamed('Aerodromo_de_Destino', 'Destino')\n",
    "display(df)\n"
   ]
  },
  {
   "cell_type": "code",
   "execution_count": 0,
   "metadata": {
    "application/vnd.databricks.v1+cell": {
     "cellMetadata": {
      "byteLimit": 2048000,
      "rowLimit": 10000
     },
     "inputWidgets": {},
     "nuid": "f608735a-1b8f-4fe7-adc5-9895695d5143",
     "showTitle": false,
     "tableResultSettingsMap": {},
     "title": ""
    }
   },
   "outputs": [],
   "source": [
    "#~ Simbolo de negacao \n",
    "Filtro = [\"Indeterminado\", \"Sem Registro\", \"Exterior\"]\n",
    "display( df.filter( ~df['Estado'].isin(Filtro)) )"
   ]
  },
  {
   "cell_type": "code",
   "execution_count": 0,
   "metadata": {
    "application/vnd.databricks.v1+cell": {
     "cellMetadata": {
      "byteLimit": 2048000,
      "rowLimit": 10000
     },
     "inputWidgets": {},
     "nuid": "6544f3c2-531f-4517-b7b6-a04908bf2124",
     "showTitle": false,
     "tableResultSettingsMap": {},
     "title": ""
    }
   },
   "outputs": [],
   "source": [
    "#4° Excluir dados que estados tenham a classificação [Indeterminado, Sem Registro, Exterior]\n",
    "\n",
    "classificacoes_a_excluir = [\"Indeterminado\", \"Sem Registro\", \"Exterior\"]\n",
    "df = df.filter(~df['Estado'].isin(classificacoes_a_excluir))\n",
    "display(df)"
   ]
  },
  {
   "cell_type": "code",
   "execution_count": 0,
   "metadata": {
    "application/vnd.databricks.v1+cell": {
     "cellMetadata": {
      "byteLimit": 2048000,
      "rowLimit": 10000
     },
     "inputWidgets": {},
     "nuid": "24e57059-dd79-4b51-be21-50a2ea1d5784",
     "showTitle": false,
     "tableResultSettingsMap": {},
     "title": ""
    }
   },
   "outputs": [],
   "source": [
    "#5°: inserir coluna com nome de atualização para usuario ver quando os dados foram atualizados \n",
    "from pyspark.sql.functions import current_timestamp, date_format,from_utc_timestamp\n",
    "df = df.withColumn(\"Atualizacao\",\\\n",
    "     date_format( from_utc_timestamp(current_timestamp(), \"America/Sao_Paulo\"), \"yyyy-MM-dd HH:mm:ss\"))\n",
    "display(df)"
   ]
  },
  {
   "cell_type": "code",
   "execution_count": 0,
   "metadata": {
    "application/vnd.databricks.v1+cell": {
     "cellMetadata": {
      "byteLimit": 2048000,
      "rowLimit": 10000
     },
     "inputWidgets": {},
     "nuid": "06e08673-71eb-4bd8-8659-b53873b70d48",
     "showTitle": false,
     "tableResultSettingsMap": {},
     "title": ""
    }
   },
   "outputs": [],
   "source": [
    "%fs ls dbfs:/mnt/anac/Gold/"
   ]
  },
  {
   "cell_type": "code",
   "execution_count": 0,
   "metadata": {
    "application/vnd.databricks.v1+cell": {
     "cellMetadata": {
      "byteLimit": 2048000,
      "rowLimit": 10000
     },
     "inputWidgets": {},
     "nuid": "edd9b61b-0a13-447b-bc0d-e838cc098b7c",
     "showTitle": false,
     "tableResultSettingsMap": {},
     "title": ""
    }
   },
   "outputs": [],
   "source": [
    "#6°:Salvar na camada Gold particionada por UF > 'Estado'\n",
    "df.write\\\n",
    "    .mode(\"overwrite\")\\\n",
    "    .format(\"parquet\")\\\n",
    "    .partitionBy(\"Estado\")\\\n",
    "    .save(\"dbfs:/mnt/anac/Gold/anac_gold_particionado\")"
   ]
  }
 ],
 "metadata": {
  "application/vnd.databricks.v1+notebook": {
   "computePreferences": null,
   "dashboards": [],
   "environmentMetadata": {
    "base_environment": "",
    "client": "1"
   },
   "language": "python",
   "notebookMetadata": {
    "mostRecentlyExecutedCommandWithImplicitDF": {
     "commandId": 5542834645637630,
     "dataframes": [
      "_sqldf"
     ]
    },
    "pythonIndentUnit": 4
   },
   "notebookName": "5. Anac - Camada Gold",
   "widgets": {}
  },
  "language_info": {
   "name": "python"
  }
 },
 "nbformat": 4,
 "nbformat_minor": 0
}
